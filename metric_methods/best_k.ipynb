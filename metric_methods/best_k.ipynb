{
  "nbformat": 4,
  "nbformat_minor": 0,
  "metadata": {
    "colab": {
      "provenance": []
    },
    "kernelspec": {
      "name": "python3",
      "display_name": "Python 3"
    },
    "language_info": {
      "name": "python"
    }
  },
  "cells": [
    {
      "cell_type": "markdown",
      "source": [
        "#Задача 2.2. Оптимальный K\n",
        "\n",
        "В этом задании Вам предлагается подобрать оптимальный K из диапазона [1,50] для решения задачи бинарной классификации на примере датасета breast_cancer. Этот датасет можно загрузить из модуля sklearn.datasets\n",
        "\n",
        "Качества оценивается при помощи метрики accuracy при помощи методики кросс-валидации. Об этой методике можно подробнее прочитать [в документации sklearn](https://scikit-learn.org/stable/modules/generated/sklearn.model_selection.cross_val_score.html)\n",
        "\n",
        "Мы предлагаем Вам заполнить недостающие команды в следующем скелете кода и получить оптимальное значение K. В ответе на задание необходимо указать это значение."
      ],
      "metadata": {
        "id": "IHJdGiLaA41g"
      }
    },
    {
      "cell_type": "code",
      "source": [
        "import sklearn\n",
        "import numpy as np\n",
        "from sklearn.metrics import accuracy_score\n",
        "from sklearn.model_selection import cross_val_score\n",
        "from sklearn.neighbors import KNeighborsClassifier\n",
        "\n",
        "random_seed = 4238\n",
        "\n",
        "np.random.seed(random_seed)\n",
        "n_splits = 3\n",
        "\n",
        "from sklearn.datasets import load_breast_cancer\n",
        "\n",
        "X, y = load_breast_cancer(return_X_y=True)\n",
        "\n",
        "#score = cross_val_score(KNeighborsClassifier(), X, y, cv = n_splits)\n",
        "\n",
        "cv_scores = []\n",
        "for k in range(1, 51):\n",
        "    clf = KNeighborsClassifier(n_neighbors = k)\n",
        "    score = cross_val_score(clf, X, y, cv = n_splits)\n",
        "    cv_scores.append(np.mean(score))\n",
        "\n",
        "print(np.argmax(cv_scores) + 1)"
      ],
      "metadata": {
        "id": "dAqbxYEsBBnZ",
        "colab": {
          "base_uri": "https://localhost:8080/"
        },
        "outputId": "2ee2dcab-efc6-4f1f-fdcd-8ccf959b1f1d"
      },
      "execution_count": null,
      "outputs": [
        {
          "output_type": "stream",
          "name": "stdout",
          "text": [
            "11\n"
          ]
        }
      ]
    },
    {
      "cell_type": "markdown",
      "source": [
        "## Примечания\n",
        "\n",
        "1. Обратите внимание, что np.argmax(cv_scores) возвращает ИНДЕКС наибольшего элемента массива. Индексация массивов начинается с нуля.\n",
        "\n",
        "2. В данной задаче мы используем один из стандартных датасетов breast cancer. Доступ к этому датасету мы осуществляем при помощи вызова функции `load_breast_cancer`, аналогично тому, как мы это делали на лекции.\n",
        "\n",
        "3. Аргумент n_splits, в данной задаче равный 3, это количество разбиений датасета для проведения кроссвалидации. В качестве итоговой метрики возьмите **среднее** значение качества по всем разбиениям при проведении кроссвалидации.\n",
        "\n",
        "4. Применение класса Pipeline не является обязательном в данном задании, но рекомендуется к изучению для тех, кто довольно уверенно чувствует себя в области программирования.\n",
        "\n",
        "5. При использовании класса `sklearn.neighbors.KNeighborsClassifier` в данной задаче не нужно дополнительно выбирать метрику расстояния (параметр `metric`). Достаточно использовать классическое евклидово расстояние."
      ],
      "metadata": {
        "id": "fH9lFKAYBFcg"
      }
    }
  ]
}