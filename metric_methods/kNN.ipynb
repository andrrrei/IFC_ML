{
  "nbformat": 4,
  "nbformat_minor": 0,
  "metadata": {
    "colab": {
      "provenance": []
    },
    "kernelspec": {
      "name": "python3",
      "display_name": "Python 3"
    },
    "language_info": {
      "name": "python"
    }
  },
  "cells": [
    {
      "cell_type": "markdown",
      "source": [
        "# Задача 2.3. KNN\n",
        "\n",
        "В этом задании Вам предлагается написать класс `KNN_classifier`, пригодный для решения задачи классификации (многоклассовой).\n",
        "\n",
        "Мы предлагаем Вам шаблон класса. В этом шаблоне заполните тела функций `.fit` и `.predict`\n",
        "\n",
        "В качестве функции близости используйте Евклидово расстояние между объектами (подробнее https://numpy.org/doc/stable/reference/generated/numpy.linalg.norm.html).\n",
        "\n",
        "Напоминание:\n",
        "\n",
        "* Функция `.fit(x, y)` производит обучение модели. В рамках этой функции необходимо реализовать подбор оптимальных параметров модели/сконфигурировать модель для дальнейшего использования на основе данной тренировочной выборки, где x - это матрица признакового описания выборки, а y - вектор ответов.\n",
        "\n",
        "* Функция `.predict(x)` осуществляет предсказание для каждого из объектов, чьи векторные описания представлены строками матрицы x. Выполняется строго после `.fit()`. Ради безопасности можно даже реализовать механизм отказа в виде выбрасывания специальной ошибки `UnfittedError` в случае попытки вызова функции `.predict()` до вызова функции `.fit()`.\n",
        "\n",
        "Замечание: не изменяйте названия класса и его методов. Это приведёт к ошибке при исполнении Вашего кода в процессе проверки задания. Тем не менее, Вы можете дописать свои собственные методы, если это необходимо.\n",
        "\n",
        "Шаблон класса:"
      ],
      "metadata": {
        "id": "giMUSayPBOYo"
      }
    },
    {
      "cell_type": "code",
      "source": [
        "import numpy as np\n",
        "\n",
        "\n",
        "class KNN_classifier:\n",
        "    def __init__(self, n_neighbors: int, **kwargs):\n",
        "        self.K = n_neighbors\n",
        "\n",
        "    def fit(self, x: np.array, y: np.array):\n",
        "        self.X_train = x\n",
        "        self.y_train = y\n",
        "\n",
        "    def predict(self, x: np.array):\n",
        "        predictions = []\n",
        "        for point in x:\n",
        "          distances = np.linalg.norm(self.X_train - point, axis = 1)\n",
        "          ind = np.argsort(distances)\n",
        "          k_nearest = self.y_train[ind[:self.K]]\n",
        "          most_common = np.bincount(k_nearest).argmax()\n",
        "          predictions.append(most_common)\n",
        "\n",
        "        return np.array(predictions)"
      ],
      "metadata": {
        "id": "lrYLUYPGBUeI"
      },
      "execution_count": null,
      "outputs": []
    },
    {
      "cell_type": "markdown",
      "source": [
        "## Примечания\n",
        "\n",
        "1. Вы можете проверить правильность выполнения задания посредством сравнения полученных результатов с функцией из соответствующего модуля `sklearn`.\n",
        "\n",
        "2. В рамках выполнения данного задания **запрещено** использовать функции из пакета `sklearn` и любого другого, кроме `numpy`. Код, использующий любые другие модули, не пройдёт тесты.\n",
        "\n",
        "3. **Подсказка:** если Вы испытываете сложности с реализацией этого задания, начните выполнять его с написания функции `.predict`. В процессе написания этой функции Вы поймёте, что конкретно Вам требуется получить от обучающей выборки, какую информацию и в каком видед извлечь из неё. Затем реализуйте это в функции `.fit`"
      ],
      "metadata": {
        "id": "z3o6dV1XBX6d"
      }
    },
    {
      "cell_type": "markdown",
      "source": [
        "## Пример входных и выходных данных"
      ],
      "metadata": {
        "id": "0Xo10b5J-xTX"
      }
    },
    {
      "cell_type": "code",
      "source": [
        "X"
      ],
      "metadata": {
        "colab": {
          "base_uri": "https://localhost:8080/"
        },
        "id": "XJ2zlkPO_lKL",
        "outputId": "8549c9fc-976d-4b85-af10-d372bdecb710"
      },
      "execution_count": null,
      "outputs": [
        {
          "output_type": "execute_result",
          "data": {
            "text/plain": [
              "array([[ 0.56510722,  0.68599596, -0.92388505, -0.29546048, -0.12437532],\n",
              "       [-0.79617537,  0.98406791,  1.19542652, -0.05626863, -0.69868076],\n",
              "       [ 0.9629688 , -1.00423925, -0.53842833, -0.23744358,  0.83226685],\n",
              "       [ 0.24671269, -0.41624448,  0.81679337,  1.59227446,  0.16192583],\n",
              "       [-0.36972363,  0.17425997,  1.33668078,  1.16687907,  0.31709134],\n",
              "       [-1.30482844, -0.05354323, -0.88862186, -1.121785  , -0.78442809],\n",
              "       [-0.53975018,  0.90074877, -1.09317408,  1.52989481, -0.43375015],\n",
              "       [-0.64709803, -0.09775791,  1.3506503 , -1.46957788,  1.63325543],\n",
              "       [-0.73858464, -0.60678229,  0.31420272, -0.43100129, -0.37665876],\n",
              "       [-0.29208809, -0.68795722,  0.06586655,  0.9583851 ,  1.70640775]])"
            ]
          },
          "metadata": {},
          "execution_count": 7
        }
      ]
    },
    {
      "cell_type": "code",
      "source": [
        "y"
      ],
      "metadata": {
        "colab": {
          "base_uri": "https://localhost:8080/"
        },
        "id": "W5Dws6L2_m8w",
        "outputId": "3cf9024f-626f-4daf-a630-2583a9cb0cb4"
      },
      "execution_count": null,
      "outputs": [
        {
          "output_type": "execute_result",
          "data": {
            "text/plain": [
              "array([1, 0, 0, 1, 0, 1, 0, 1, 0, 1])"
            ]
          },
          "metadata": {},
          "execution_count": 6
        }
      ]
    },
    {
      "cell_type": "code",
      "source": [
        "knn = KNN_classifier(n_neighbors=3)"
      ],
      "metadata": {
        "id": "icADSPko_oEh"
      },
      "execution_count": null,
      "outputs": []
    },
    {
      "cell_type": "code",
      "source": [
        "knn.fit(X, y)"
      ],
      "metadata": {
        "id": "XSNCFpho_tqM"
      },
      "execution_count": null,
      "outputs": []
    },
    {
      "cell_type": "code",
      "source": [
        "x_test"
      ],
      "metadata": {
        "colab": {
          "base_uri": "https://localhost:8080/"
        },
        "id": "u8cnf2ir_4n1",
        "outputId": "a9f778da-78a5-4684-d236-ad49cb7e7acf"
      },
      "execution_count": null,
      "outputs": [
        {
          "output_type": "execute_result",
          "data": {
            "text/plain": [
              "array([[-0.12489725,  0.65791923, -0.73112495,  1.42660225,  1.64728976],\n",
              "       [ 0.01913388, -1.11351208, -0.63244098, -0.98121107,  0.38060892],\n",
              "       [-0.92074931,  1.39812225,  0.39692147,  0.7717827 ,  0.44604002]])"
            ]
          },
          "metadata": {},
          "execution_count": 10
        }
      ]
    },
    {
      "cell_type": "code",
      "source": [
        "knn.predict(x_test)"
      ],
      "metadata": {
        "colab": {
          "base_uri": "https://localhost:8080/"
        },
        "id": "LaSaCBs9_xYM",
        "outputId": "6aed0939-3ab3-4f2f-f254-cca23dd81ed1"
      },
      "execution_count": null,
      "outputs": [
        {
          "output_type": "execute_result",
          "data": {
            "text/plain": [
              "array([1, 0, 0])"
            ]
          },
          "metadata": {},
          "execution_count": 11
        }
      ]
    },
    {
      "cell_type": "code",
      "source": [],
      "metadata": {
        "id": "dXTkSHu3__rY"
      },
      "execution_count": null,
      "outputs": []
    }
  ]
}