{
  "nbformat": 4,
  "nbformat_minor": 0,
  "metadata": {
    "colab": {
      "provenance": []
    },
    "kernelspec": {
      "name": "python3",
      "display_name": "Python 3"
    },
    "language_info": {
      "name": "python"
    }
  },
  "cells": [
    {
      "cell_type": "markdown",
      "source": [
        "# 7.1. Разнообразие\n",
        "\n",
        "Как известно, для формирования случайного леса необходимо разнообразие каждого из решающих деревьев в его составе. Добиться такого разнообразия можно как при помощи варьирования параметров деревьев, так и при помощи варьирования обучающих выборок. Это обычно делается при помощи комбинирования методов случайных подпространств и беггинга. Метод случайных подпространств состоит в случайном выборе подмножества признаков. Бэггинг - это техника отбора подмножества объектов из исходной выборки, которая состоит в последовательном случайном выборе объектов выборки [**с возвращением**](https://ru.wikipedia.org/wiki/Размещение#Размещение_с_повторениями).\n",
        "\n",
        "Для ясности приведём следующий пример:\n",
        "\n",
        "Пусть  наша выборка - это черный мешок с пронумерованными шарами. Каждый шар символизирует некоторый объект нашей выборки с соответствующим номером. Процедура бэггинга предлагает нам последовательно хорошо перемешав шары в мешке вытаскивать их один за другим не глядя, записывать их номера на лист бумаги, а затем возвращать их назад в мешок, повторяя эту операцию столько раз, сколько объектов содержится в нашей выборке. Затем мы вынем из мешка все те шары, номер которых хотя бы раз возник в нашем списке. Понятно, что скорее всего среди этих номеров будут повторяющиеся, то есть какие-то шары мы вытянем несколько раз, а какие-то - вообще ни разу. Именно поэтому наша подвыборка и получится случайной. Статистически обоснована оценка того, какой процент шаров из исходной выборки в среднем попадёт в итоговую подвыборку. Эта оценка приблизительно равна $62\\%$.\n",
        "\n",
        "Ваша задача - написать реализацию трёх функций и объединить их в класс `sample`, возвращающий по выборке некоторую случайную подвыборку, пригодную для обучения  одного из деревьев в ансамбле случайного леса.\n",
        "\n",
        "**Замечание:** обратите внимание, что объекты в итоговой подвыборке не должны дублироваться. Мы предлагаем Вам ознакомиться с функциями [np.random.choice](https://numpy.org/doc/stable/reference/random/generated/numpy.random.choice.html) и [np.unique](https://numpy.org/doc/stable/reference/generated/numpy.unique.html), они могут оказаться полезны при выполнении этого задания.\n",
        "\n",
        "Подробнее об этом методе можно прочитать в нашей [лекции](https://colab.research.google.com/drive/1LrqEyfmOKJQdvgxZ56qPcJ_YjJFnP_Ka#scrollTo=kYjii_stqfJo)\n"
      ],
      "metadata": {
        "id": "i3pPZpuKiGnI"
      }
    },
    {
      "cell_type": "code",
      "source": [
        "import numpy as np\n",
        "\n",
        "class sample(object):\n",
        "  def __init__(self, X, n_subspace):\n",
        "    self.idx_subspace = self.random_subspace(X, n_subspace)\n",
        "\n",
        "  def __call__(self, X, y):\n",
        "    idx_obj = self.bootstrap_sample(X)\n",
        "    X_sampled, y_sampled = self.get_subsample(X, y, self.idx_subspace, idx_obj)\n",
        "    return X_sampled, y_sampled\n",
        "\n",
        "  @staticmethod\n",
        "  def bootstrap_sample(X, random_state=42):\n",
        "    \"\"\"\n",
        "    Заполните тело этой функции таким образом, чтобы она возвращала массив индексов, выбранных при помощи бэггинга.\n",
        "    Пользуйтесь только инструментами, реализованными в numpy.random, выставляя везде, где это необходимо, random_state=42\n",
        "    \"\"\"\n",
        "    idx_obj = np.random.choice(X.shape[0], size=X.shape[0], replace=True)\n",
        "    idx_obj = np.unique(idx_obj)\n",
        "    return idx_obj\n",
        "\n",
        "  @staticmethod\n",
        "  def random_subspace(X, n_subspace, random_state=42):\n",
        "    \"\"\"\n",
        "    Заполните тело этой функции таким образом, чтобы она возвращала массив индексов выбранных при помощи метода случайных подпространств признаков\n",
        "    Количество этих признаков передается при помощи аргумента n_subspace\n",
        "    Пользуйтесь только инструментами, реализованными в numpy.random, выставляя везде, где это необходимо, random_state=42\n",
        "    \"\"\"\n",
        "    idx_subspace = np.random.choice(X.shape[1], size=n_subspace, replace=False)\n",
        "    return idx_subspace\n",
        "\n",
        "  @staticmethod\n",
        "  def get_subsample(X, y, idx_subspace, idx_obj):\n",
        "    \"\"\"\n",
        "    Заполните тело этой функции таким образом, чтобы она возвращала подвыборку x_sampled, y_sampled\n",
        "    по значениям индексов признаков(idx_subspace) и объектов(idx_obj) , которые должны в неё попасть\n",
        "    \"\"\"\n",
        "    X_sampled = X[idx_obj][:, idx_subspace]\n",
        "    y_sampled = y[idx_obj]\n",
        "    return X_sampled, y_sampled"
      ],
      "metadata": {
        "id": "juW_Uoo_ic0z"
      },
      "execution_count": null,
      "outputs": []
    },
    {
      "cell_type": "markdown",
      "source": [
        "# Пример формата входных и выходных данных"
      ],
      "metadata": {
        "id": "9kUI0HufQa7b"
      }
    },
    {
      "cell_type": "code",
      "source": [
        "X = np.array([[1,2,3], [4,5,6], [7,8,9]])\n",
        "Y = np.array([1, 2, 3])\n",
        "s = sample(X, 2)\n",
        "\n",
        "X_sampled, y_sampled = s.get_subsample(X, Y, s.idx_subspace, s.bootstrap_sample(X))"
      ],
      "metadata": {
        "id": "t5ObaQ8MQl-e"
      },
      "execution_count": null,
      "outputs": []
    },
    {
      "cell_type": "code",
      "source": [
        "# Строки, выбранные из исходного массива X\n",
        "s.bootstrap_sample(X)"
      ],
      "metadata": {
        "colab": {
          "base_uri": "https://localhost:8080/"
        },
        "id": "kx_-y3ATRl1f",
        "outputId": "e4c7ec44-65b3-498a-eb13-5864c9127aa6"
      },
      "execution_count": null,
      "outputs": [
        {
          "output_type": "execute_result",
          "data": {
            "text/plain": [
              "array([0, 2])"
            ]
          },
          "metadata": {},
          "execution_count": 3
        }
      ]
    },
    {
      "cell_type": "code",
      "source": [
        "# Столбцы, выбранные из исходного массива X\n",
        "s.idx_subspace"
      ],
      "metadata": {
        "colab": {
          "base_uri": "https://localhost:8080/"
        },
        "id": "tSF8hy3FRmyP",
        "outputId": "c1569ee2-8b81-462b-b95c-2cb2f051b318"
      },
      "execution_count": null,
      "outputs": [
        {
          "output_type": "execute_result",
          "data": {
            "text/plain": [
              "array([2, 1])"
            ]
          },
          "metadata": {},
          "execution_count": 4
        }
      ]
    },
    {
      "cell_type": "code",
      "source": [
        "# Матрица на выходе\n",
        "X_sampled"
      ],
      "metadata": {
        "colab": {
          "base_uri": "https://localhost:8080/"
        },
        "id": "OiDNFq6zRg8G",
        "outputId": "d691d52f-6906-48c2-83f9-ea7f26e6e246"
      },
      "execution_count": null,
      "outputs": [
        {
          "output_type": "execute_result",
          "data": {
            "text/plain": [
              "array([[3, 2],\n",
              "       [9, 8]])"
            ]
          },
          "metadata": {},
          "execution_count": 5
        }
      ]
    },
    {
      "cell_type": "code",
      "source": [
        "# Вектор ответов на выходе\n",
        "y_sampled"
      ],
      "metadata": {
        "colab": {
          "base_uri": "https://localhost:8080/"
        },
        "id": "JEaXXOO9RiVZ",
        "outputId": "4e06595f-0e93-4ebd-f082-1328c2b95474"
      },
      "execution_count": null,
      "outputs": [
        {
          "output_type": "execute_result",
          "data": {
            "text/plain": [
              "array([1, 3])"
            ]
          },
          "metadata": {},
          "execution_count": 6
        }
      ]
    },
    {
      "cell_type": "markdown",
      "source": [
        "## Примечания\n",
        "\n",
        "1. Не забывайте, что в качестве ответа на задание нужно отправлять именно реализованный класс, соответствующиий [шаблону выше](https://colab.research.google.com/drive/1LoXr0Rwmcivgla2gAzOKuLgh2ISlokvv#scrollTo=juW_Uoo_ic0z&line=5&uniqifier=1).\n",
        "\n",
        "2. Подумайте, что должны возвращать методы bootstrap_sample и random_subspace (одна из функций возвращает индексы строк, другая - индексы столбцов).\n",
        "\n",
        "3. Пример из блокнота не обязан совпадать с входными данными из блокнота. Он дан лишь для проверки алгоритмов в указанном формате.\n",
        "\n",
        "4. Подумайте, в каких реализуемых методах нужен numpy.unique(), а в каких - нет.\n",
        "\n",
        "5. В реализуемых методах запрещается использовать вывод любой информации на экран (в частности, недопустимо использование print())."
      ],
      "metadata": {
        "id": "3fEZJ19GIl1W"
      }
    },
    {
      "cell_type": "markdown",
      "source": [
        "# 7.2. Случайный лес\n",
        "\n",
        "Ваша задача - написать класс `random_forest` для решения задачи классификации на основе датасета Ирисов Фишера (`sklearn.datasets.load_iris`), принимающий на вход конструктора аргументы `n_estimators`, `max_depth`, `subspaces_dim` и `random_state`. описание этих аргументов приведено ниже. У этого класса должны быть определены методы `.fit()` и `.predict()`, а также поле `._estimators`, в котором должен храниться список алгоритмов, используемых в ансамбле.\n",
        "\n",
        "- n_estimators - число деревьев в ансамбле\n",
        "- max_depth - максимальная глубина каждого дерева в ансамбле\n",
        "- subspaces_dim - размерность случайного подпространства для каждого дерева\n",
        "\n",
        "Для создания обучающей подвыборки для каждого из базовых классификаторов, Вы можете воспользоваться классом `sample`, который Вы реализовали в прошлом задании. В случае его использования, не забудьте включить его описание в файл с Вашим решением текущего задания. Мы также предлагаем вам организовать выбор подпространств для каждого дерева посредством заполнения списка `subspace_idx`, в котором будут логироваться выбранные для каждого базового классификатора подпространства.\n",
        "\n",
        "Замечание: в рамках выполнения данного задания запрещено использовать класс `sklearn.ensemble.RandomForestClassifier`. Такой код не пройдёт проверку.\n",
        "\n",
        "Подберите также гиперпараметры, на которых ваш алгоритм получает наилучшее качество (с точки зрения метрики accuracy, доли правильных ответов) на тестовой выборке с параметром `test_size`=0.3, задайте их в виде глобальных переменных N_ESTIMATORS, MAX_DEPTH, SUBSPACE_DIM.\n",
        "\n",
        "Шаблон класса:"
      ],
      "metadata": {
        "id": "Adc2NsCMRtyE"
      }
    },
    {
      "cell_type": "markdown",
      "source": [],
      "metadata": {
        "id": "_X2Pzrg-R7x3"
      }
    },
    {
      "cell_type": "code",
      "source": [
        "from sklearn.tree import DecisionTreeClassifier\n",
        "\n",
        "np.random.seed(42)\n",
        "\n",
        "N_ESTIMATORS = 10\n",
        "MAX_DEPTH = 5\n",
        "SUBSPACE_DIM = 2\n",
        "\n",
        "class random_forest(object):\n",
        "  def __init__(self, n_estimators: int, max_depth: int, subspaces_dim: int, random_state: int):\n",
        "    self.n_estimators = n_estimators\n",
        "    self.max_depth = max_depth\n",
        "    self.subspaces_dim = subspaces_dim\n",
        "    self.random_state = random_state\n",
        "    self._estimators = []\n",
        "    self.idx_subspaces = []\n",
        "\n",
        "  def fit(self, X, y):\n",
        "    \"\"\"\n",
        "      Напишите функцию обучения каждого из деревьев алгоритма на собственной подвыборке\n",
        "    \"\"\"\n",
        "    for i in range(self.n_estimators):\n",
        "      s = sample(X, self.subspaces_dim)\n",
        "      idx_subspace = s.random_subspace(X, self.subspaces_dim)\n",
        "      idx_obj = s.bootstrap_sample(X)\n",
        "      X_sampled, y_sampled = s.get_subsample(X, y, idx_subspace, idx_obj)\n",
        "\n",
        "      tree = DecisionTreeClassifier(max_depth=self.max_depth, random_state=self.random_state)\n",
        "      tree.fit(X_sampled, y_sampled)\n",
        "      self._estimators.append(tree)\n",
        "      self.idx_subspaces.append(idx_subspace)\n",
        "\n",
        "  def predict(self, X):\n",
        "    \"\"\"\n",
        "      Напишите функцию получения среднего предсказания алгоритма\n",
        "    \"\"\"\n",
        "    preds = [tree.predict(X[:, self.idx_subspaces[i]]) for i, tree in enumerate(self._estimators)]\n",
        "    return np.round(np.mean(preds, axis = 0)).astype(int)"
      ],
      "metadata": {
        "id": "2FnOXzx2R8af"
      },
      "execution_count": null,
      "outputs": []
    },
    {
      "cell_type": "code",
      "source": [
        "from sklearn.datasets import load_iris\n",
        "from sklearn.model_selection import train_test_split\n",
        "from sklearn.metrics import accuracy_score\n",
        "\n",
        "X, y = load_iris(return_X_y=True)\n",
        "X_train, X_test, y_train, y_test = train_test_split(X, y, test_size=0.3, shuffle=True, random_state=42)\n",
        "rf_model = random_forest(N_ESTIMATORS, MAX_DEPTH, SUBSPACE_DIM, 42)\n",
        "rf_model.fit(X_train, y_train)\n",
        "y_pred = rf_model.predict(X_test)\n",
        "print(y_pred)\n",
        "print(y_test)\n",
        "accuracy_score(y_pred, y_test)"
      ],
      "metadata": {
        "colab": {
          "base_uri": "https://localhost:8080/"
        },
        "id": "3x8k6V0vgiG6",
        "outputId": "b9ebbcb5-7802-4043-901d-7bbc15e212bd"
      },
      "execution_count": null,
      "outputs": [
        {
          "output_type": "stream",
          "name": "stdout",
          "text": [
            "[1 0 2 1 1 0 1 2 1 1 2 0 0 0 0 1 2 1 1 2 0 2 0 2 2 2 2 2 0 0 0 0 1 0 0 2 1\n",
            " 0 0 0 2 1 1 0 0]\n",
            "[1 0 2 1 1 0 1 2 1 1 2 0 0 0 0 1 2 1 1 2 0 2 0 2 2 2 2 2 0 0 0 0 1 0 0 2 1\n",
            " 0 0 0 2 1 1 0 0]\n"
          ]
        },
        {
          "output_type": "execute_result",
          "data": {
            "text/plain": [
              "1.0"
            ]
          },
          "metadata": {},
          "execution_count": 8
        }
      ]
    },
    {
      "cell_type": "markdown",
      "source": [
        "## Примечания\n",
        "\n",
        "1. В данной задаче запрещено использовать библиотеку pandas.\n",
        "\n",
        "2. В реализуемых методах запрещается использовать вывод любой информации на экран (в частности, недопустимо использование print())."
      ],
      "metadata": {
        "id": "JjxHGnX2SCM3"
      }
    },
    {
      "cell_type": "markdown",
      "source": [
        "# Пример входных и выходных данных"
      ],
      "metadata": {
        "id": "t_Vde5eWSf5u"
      }
    },
    {
      "cell_type": "code",
      "source": [
        "X = np.array([[ 0.47819456, -1.57891216, -0.1018819 ,  1.11113501,  0.20826281,\n",
        "        -1.11091227,  0.07844205],\n",
        "       [ 0.11850997,  1.91073022,  0.95574903,  1.35798262,  0.56177995,\n",
        "         0.26012021,  0.42404407],\n",
        "       [-0.52304666,  0.75051167, -1.037804  , -0.10105312,  0.08559063,\n",
        "         0.5102743 , -1.79068927],\n",
        "       [-0.09078024,  1.62097709,  0.93284371,  1.0386902 , -0.68354252,\n",
        "        -1.27138661,  0.15060651],\n",
        "       [ 0.11676701, -0.71769062, -0.80119565,  0.73448495,  1.80728052,\n",
        "         0.45770337,  0.20689119]])"
      ],
      "metadata": {
        "id": "pJReFVoHSDC2"
      },
      "execution_count": null,
      "outputs": []
    },
    {
      "cell_type": "code",
      "source": [
        "X.shape"
      ],
      "metadata": {
        "colab": {
          "base_uri": "https://localhost:8080/"
        },
        "id": "HG8tgaDqSL_v",
        "outputId": "c697a4c9-bd88-4d6b-c7a8-83c818604a70"
      },
      "execution_count": null,
      "outputs": [
        {
          "output_type": "execute_result",
          "data": {
            "text/plain": [
              "(5, 7)"
            ]
          },
          "metadata": {},
          "execution_count": 10
        }
      ]
    },
    {
      "cell_type": "code",
      "source": [
        "y.shape"
      ],
      "metadata": {
        "colab": {
          "base_uri": "https://localhost:8080/"
        },
        "id": "KAJTuEuSSMe8",
        "outputId": "0f710009-906f-4c60-eb73-23352799ff40"
      },
      "execution_count": null,
      "outputs": [
        {
          "output_type": "execute_result",
          "data": {
            "text/plain": [
              "(150,)"
            ]
          },
          "metadata": {},
          "execution_count": 11
        }
      ]
    },
    {
      "cell_type": "code",
      "source": [
        "rf = random_forest(25, 15, 2, 42)\n",
        "rf.fit(X, y)"
      ],
      "metadata": {
        "id": "Tujqu90ISQkD"
      },
      "execution_count": null,
      "outputs": []
    },
    {
      "cell_type": "code",
      "source": [
        "rf = random_forest(25, 15, 2, 42)\n",
        "rf.fit(X, y)"
      ],
      "metadata": {
        "id": "OfIWozqgSXvO"
      },
      "execution_count": null,
      "outputs": []
    },
    {
      "cell_type": "code",
      "source": [
        "preds = rf.predict(X)"
      ],
      "metadata": {
        "id": "9qK6X3DvSaCE"
      },
      "execution_count": null,
      "outputs": []
    },
    {
      "cell_type": "code",
      "source": [
        "preds"
      ],
      "metadata": {
        "colab": {
          "base_uri": "https://localhost:8080/"
        },
        "id": "O1Z-ueF0SbvQ",
        "outputId": "991252c4-43cb-4e1d-b3ac-900f50283603"
      },
      "execution_count": null,
      "outputs": [
        {
          "output_type": "execute_result",
          "data": {
            "text/plain": [
              "array([0, 0, 0, 0, 0])"
            ]
          },
          "metadata": {},
          "execution_count": 15
        }
      ]
    }
  ]
}